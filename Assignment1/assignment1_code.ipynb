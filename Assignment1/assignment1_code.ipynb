{
 "cells": [
  {
   "cell_type": "code",
   "execution_count": 57,
   "metadata": {},
   "outputs": [
    {
     "name": "stdout",
     "output_type": "stream",
     "text": [
      "Extracting MNIST_data/train-images-idx3-ubyte.gz\n",
      "Extracting MNIST_data/train-labels-idx1-ubyte.gz\n",
      "Extracting MNIST_data/t10k-images-idx3-ubyte.gz\n",
      "Extracting MNIST_data/t10k-labels-idx1-ubyte.gz\n"
     ]
    }
   ],
   "source": [
    "import input_data\n",
    "mnist = input_data.read_data_sets(\"MNIST_data/\", one_hot=True)"
   ]
  },
  {
   "cell_type": "code",
   "execution_count": 58,
   "metadata": {},
   "outputs": [],
   "source": [
    "import tensorflow.compat.v1 as tf\n",
    "tf.disable_v2_behavior() \n",
    "import matplotlib.pyplot as plt\n",
    "import pandas as pd\n",
    "import datetime as dt\n",
    "import urllib.request, json\n",
    "import os\n",
    "import numpy as np"
   ]
  },
  {
   "cell_type": "code",
   "execution_count": 59,
   "metadata": {},
   "outputs": [],
   "source": [
    "learning_rate = 0.0001\n",
    "trainEpochs = 50\n",
    "batchSize = 100\n",
    "display = 1\n",
    "\n",
    "hidden1 = 256\n",
    "hidden2 = 128 \n",
    "ninput = 784 \n",
    "classes = 10 "
   ]
  },
  {
   "cell_type": "code",
   "execution_count": 60,
   "metadata": {},
   "outputs": [],
   "source": [
    "X = tf.placeholder(\"float\", [None, ninput])\n",
    "Y = tf.placeholder(\"float\", [None, classes])\n",
    "\n",
    "weights = {\n",
    "    'h1': tf.Variable(tf.random_normal([ninput, hidden1])),\n",
    "    'h2': tf.Variable(tf.random_normal([hidden1, hidden2])),\n",
    "    'out': tf.Variable(tf.random_normal([hidden2, classes]))\n",
    "}\n",
    "biases = {\n",
    "    'b1': tf.Variable(tf.random_normal([hidden1])),\n",
    "    'b2': tf.Variable(tf.random_normal([hidden2])),\n",
    "    'out': tf.Variable(tf.random_normal([classes]))\n",
    "}"
   ]
  },
  {
   "cell_type": "code",
   "execution_count": 61,
   "metadata": {},
   "outputs": [],
   "source": [
    "def multilayer_perceptron(x):\n",
    "    layer1 = tf.add(tf.matmul(x, weights['h1']), biases['b1'])\n",
    "    layer1 = tf.nn.relu(layer1, name ='ReLU') \n",
    "    layer2 = tf.add(tf.matmul(layer1, weights['h2']), biases['b2'])\n",
    "    layer2 = tf.nn.relu(layer2, name ='ReLU') \n",
    "    outlayer = tf.matmul(layer2, weights['out']) + biases['out']\n",
    "    return outlayer"
   ]
  },
  {
   "cell_type": "code",
   "execution_count": 62,
   "metadata": {},
   "outputs": [],
   "source": [
    "with tf.name_scope('Model'):\n",
    "    p = multilayer_perceptron(X)\n",
    "\n",
    "with tf.name_scope('loss'):\n",
    "    loss = tf.reduce_mean(tf.nn.softmax_cross_entropy_with_logits(logits=p, labels=Y))\n",
    "    \n",
    "with tf.name_scope('SGD'):\n",
    "    optimizer = tf.train.AdamOptimizer(learning_rate=learning_rate).minimize(loss)\n",
    "\n",
    "    \n",
    "with tf.name_scope('Accuracy'):\n",
    "    accuracy = tf.equal(tf.argmax(p, 1), tf.argmax(Y, 1))\n",
    "    accuracy = tf.reduce_mean(tf.cast(accuracy, \"float\"))"
   ]
  },
  {
   "cell_type": "code",
   "execution_count": 63,
   "metadata": {},
   "outputs": [],
   "source": [
    "i = tf.global_variables_initializer()\n",
    "\n",
    "tsl = tf.summary.scalar(\"training_loss\", loss)\n",
    "vsl = tf.summary.scalar(\"validation_loss\", loss)\n",
    "\n",
    "ts = tf.summary.scalar(\"training_accuracy\", accuracy)\n",
    "vs = tf.summary.scalar(\"validation_accuracy\", accuracy)\n",
    "\n",
    "pst = tf.summary.merge([tsl,ts])\n",
    "psv = tf.summary.merge([vsl,vs])"
   ]
  },
  {
   "cell_type": "code",
   "execution_count": 64,
   "metadata": {},
   "outputs": [],
   "source": [
    "if not os.path.exists('summaries'):\n",
    "    os.mkdir('summaries')\n",
    "if not os.path.exists(os.path.join('summaries','first')):\n",
    "    os.mkdir(os.path.join('summaries','first'))\n",
    "\n",
    "config = tf.ConfigProto(allow_soft_placement=True)\n",
    "config.gpu_options.allow_growth = True\n",
    "config.gpu_options.per_process_gpu_memory_fraction = 0.9\n",
    "\n",
    "session = tf.InteractiveSession(config=config)"
   ]
  },
  {
   "cell_type": "code",
   "execution_count": 65,
   "metadata": {},
   "outputs": [
    {
     "name": "stdout",
     "output_type": "stream",
     "text": [
      "Epoch: 0001 cost=1797.286 Training Accuracy: 0.6082909 validation Accuracy: 0.619\n",
      "Epoch: 0002 cost=514.653 Training Accuracy: 0.7439091 validation Accuracy: 0.7582\n",
      "Epoch: 0003 cost=331.244 Training Accuracy: 0.7975636 validation Accuracy: 0.8098\n",
      "Epoch: 0004 cost=252.548 Training Accuracy: 0.82887274 validation Accuracy: 0.8392\n",
      "Epoch: 0005 cost=205.737 Training Accuracy: 0.84925455 validation Accuracy: 0.8516\n",
      "Epoch: 0006 cost=174.279 Training Accuracy: 0.86367273 validation Accuracy: 0.8658\n",
      "Epoch: 0007 cost=151.592 Training Accuracy: 0.87412727 validation Accuracy: 0.8778\n",
      "Epoch: 0008 cost=134.173 Training Accuracy: 0.8832545 validation Accuracy: 0.8856\n",
      "Epoch: 0009 cost=120.494 Training Accuracy: 0.8897273 validation Accuracy: 0.8926\n",
      "Epoch: 0010 cost=109.397 Training Accuracy: 0.8961818 validation Accuracy: 0.8974\n",
      "Epoch: 0011 cost=100.036 Training Accuracy: 0.9015273 validation Accuracy: 0.8998\n",
      "Epoch: 0012 cost=92.009 Training Accuracy: 0.9066182 validation Accuracy: 0.9024\n",
      "Epoch: 0013 cost=84.791 Training Accuracy: 0.9114 validation Accuracy: 0.9046\n",
      "Epoch: 0014 cost=78.623 Training Accuracy: 0.9156182 validation Accuracy: 0.908\n",
      "Epoch: 0015 cost=73.124 Training Accuracy: 0.9198545 validation Accuracy: 0.9096\n",
      "Epoch: 0016 cost=68.078 Training Accuracy: 0.9227273 validation Accuracy: 0.913\n",
      "Epoch: 0017 cost=63.620 Training Accuracy: 0.92676365 validation Accuracy: 0.9154\n",
      "Epoch: 0018 cost=59.359 Training Accuracy: 0.9296727 validation Accuracy: 0.9162\n",
      "Epoch: 0019 cost=55.436 Training Accuracy: 0.9321091 validation Accuracy: 0.9166\n",
      "Epoch: 0020 cost=51.987 Training Accuracy: 0.9349091 validation Accuracy: 0.9198\n",
      "Epoch: 0021 cost=48.662 Training Accuracy: 0.93825454 validation Accuracy: 0.9214\n",
      "Epoch: 0022 cost=45.712 Training Accuracy: 0.9410545 validation Accuracy: 0.923\n",
      "Epoch: 0023 cost=42.859 Training Accuracy: 0.94258183 validation Accuracy: 0.923\n",
      "Epoch: 0024 cost=40.130 Training Accuracy: 0.94512725 validation Accuracy: 0.9246\n",
      "Epoch: 0025 cost=37.712 Training Accuracy: 0.9468727 validation Accuracy: 0.9268\n",
      "Epoch: 0026 cost=35.400 Training Accuracy: 0.95036364 validation Accuracy: 0.9276\n",
      "Epoch: 0027 cost=33.259 Training Accuracy: 0.95149094 validation Accuracy: 0.9286\n",
      "Epoch: 0028 cost=31.232 Training Accuracy: 0.95289093 validation Accuracy: 0.9296\n",
      "Epoch: 0029 cost=29.413 Training Accuracy: 0.9551091 validation Accuracy: 0.931\n",
      "Epoch: 0030 cost=27.536 Training Accuracy: 0.9577636 validation Accuracy: 0.9292\n",
      "Epoch: 0031 cost=25.918 Training Accuracy: 0.95876366 validation Accuracy: 0.9316\n",
      "Epoch: 0032 cost=24.325 Training Accuracy: 0.9598182 validation Accuracy: 0.9322\n",
      "Epoch: 0033 cost=22.836 Training Accuracy: 0.9609636 validation Accuracy: 0.9328\n",
      "Epoch: 0034 cost=21.405 Training Accuracy: 0.9643091 validation Accuracy: 0.934\n",
      "Epoch: 0035 cost=20.019 Training Accuracy: 0.96321815 validation Accuracy: 0.9344\n",
      "Epoch: 0036 cost=18.831 Training Accuracy: 0.9674364 validation Accuracy: 0.9338\n",
      "Epoch: 0037 cost=17.606 Training Accuracy: 0.96883637 validation Accuracy: 0.9334\n",
      "Epoch: 0038 cost=16.513 Training Accuracy: 0.9682364 validation Accuracy: 0.9348\n",
      "Epoch: 0039 cost=15.366 Training Accuracy: 0.9704546 validation Accuracy: 0.935\n",
      "Epoch: 0040 cost=14.417 Training Accuracy: 0.9726909 validation Accuracy: 0.934\n",
      "Epoch: 0041 cost=13.509 Training Accuracy: 0.9735636 validation Accuracy: 0.9342\n",
      "Epoch: 0042 cost=12.655 Training Accuracy: 0.9749454 validation Accuracy: 0.9354\n",
      "Epoch: 0043 cost=11.783 Training Accuracy: 0.97623634 validation Accuracy: 0.9348\n",
      "Epoch: 0044 cost=11.007 Training Accuracy: 0.97596365 validation Accuracy: 0.9348\n",
      "Epoch: 0045 cost=10.224 Training Accuracy: 0.97743636 validation Accuracy: 0.9364\n",
      "Epoch: 0046 cost=9.541 Training Accuracy: 0.97949094 validation Accuracy: 0.9356\n",
      "Epoch: 0047 cost=8.855 Training Accuracy: 0.9791818 validation Accuracy: 0.9366\n",
      "Epoch: 0048 cost=8.231 Training Accuracy: 0.98074543 validation Accuracy: 0.9364\n",
      "Epoch: 0049 cost=7.609 Training Accuracy: 0.98112726 validation Accuracy: 0.9364\n",
      "Epoch: 0050 cost=7.140 Training Accuracy: 0.9842909 validation Accuracy: 0.9374\n",
      "Optimization Finished!\n",
      "Accuracy: 0.9998\n"
     ]
    }
   ],
   "source": [
    "with tf.Session() as sess:\n",
    "    \n",
    "    sess.run(i)\n",
    "    \n",
    "    s = tf.summary.FileWriter(os.path.join('summaries','first'), graph=session.graph)\n",
    "    avgcostr_ls = []\n",
    "    avgcostr_test_ls = []\n",
    "    for epoch in range(trainEpochs):\n",
    "        avgcost = 0.\n",
    "        avgcost_test = 0.\n",
    "        totalbatch = int(mnist.train.num_examples/batchSize)\n",
    "        totalbatch_test= int(mnist.test.num_examples/batchSize)\n",
    "        ls = []\n",
    "        for i in range(totalbatch):\n",
    "            batchx, batchy = mnist.train.next_batch(batchSize)  \n",
    "            batchx_test, batchy_test = mnist.test.next_batch(batchSize)\n",
    "            _, c, summary = sess.run([optimizer, loss, pst],\n",
    "                                     feed_dict={X: batchx,Y: batchy})\n",
    "            _, c_test, summary_test = sess.run([optimizer, loss, pst],\n",
    "                                     feed_dict={X: batchx_test,Y: batchy_test})\n",
    "               \n",
    "            s.add_summary(summary, epoch * totalbatch + i)\n",
    "            \n",
    "            avgcost_test += c_test/totalbatch\n",
    "            avgcost += c / totalbatch_test\n",
    "            avgcostr_ls.append(avgcost)\n",
    "            avgcostr_test_ls.append(avgcost_test)\n",
    "            \n",
    "        \n",
    "        \n",
    "        for i in range(totalbatch):\n",
    "            batchx, batchy = mnist.validation.next_batch(batchSize)\n",
    "\n",
    "            sval = sess.run(psv,feed_dict={X: batchx,Y: batchy})\n",
    "            s.add_summary(sval, epoch * totalbatch + i)\n",
    "\n",
    "        if epoch % display == 0:\n",
    "            print(\"Epoch:\", '%04d' % (epoch+1), \"cost={:.3f}\".format(avgcost),\n",
    "                 \"Training Accuracy:\", accuracy.eval({X: mnist.train.images, Y: mnist.train.labels}),\n",
    "                 \"validation Accuracy:\", accuracy.eval({X: mnist.validation.images, Y: mnist.validation.labels}))\n",
    "            ls.append(avgcost)\n",
    "    print(\"Optimization Finished!\")\n",
    "    \n",
    "    print(\"Accuracy:\", accuracy.eval({X: mnist.test.images, Y: mnist.test.labels}))"
   ]
  },
  {
   "cell_type": "code",
   "execution_count": 68,
   "metadata": {},
   "outputs": [
    {
     "name": "stdout",
     "output_type": "stream",
     "text": [
      "27500\n",
      "27500\n"
     ]
    },
    {
     "data": {
      "image/png": "[encoded data removed]",
      "text/plain": [
       "<Figure size 432x288 with 1 Axes>"
      ]
     },
     "metadata": {
      "needs_background": "light"
     },
     "output_type": "display_data"
    },
    {
     "data": {
      "image/png": "[encoded data removed]",
      "text/plain": [
       "<Figure size 432x288 with 1 Axes>"
      ]
     },
     "metadata": {
      "needs_background": "light"
     },
     "output_type": "display_data"
    }
   ],
   "source": [
    "plt.plot(avgcostr_ls) #training loss vs. training iterations\n",
    "plt.show()\n",
    "plt.plot(avgcostr_test_ls) #test loss vs. training iterations.\n",
    "plt.show()\n",
    "\n"
   ]
  },
  {
   "cell_type": "code",
   "execution_count": null,
   "metadata": {},
   "outputs": [],
   "source": []
  },
  {
   "cell_type": "code",
   "execution_count": null,
   "metadata": {},
   "outputs": [],
   "source": []
  },
  {
   "cell_type": "code",
   "execution_count": null,
   "metadata": {},
   "outputs": [],
   "source": []
  }
 ],
 "metadata": {
  "kernelspec": {
   "display_name": "Python 3",
   "language": "python",
   "name": "python3"
  },
  "language_info": {
   "codemirror_mode": {
    "name": "ipython",
    "version": 3
   },
   "file_extension": ".py",
   "mimetype": "text/x-python",
   "name": "python",
   "nbconvert_exporter": "python",
   "pygments_lexer": "ipython3",
   "version": "3.8.3"
  }
 },
 "nbformat": 4,
 "nbformat_minor": 4
}
